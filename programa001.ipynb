{
  "nbformat": 4,
  "nbformat_minor": 0,
  "metadata": {
    "colab": {
      "provenance": [],
      "authorship_tag": "ABX9TyPHdTKuhuveTGhGbi1BHw+O",
      "include_colab_link": true
    },
    "kernelspec": {
      "name": "python3",
      "display_name": "Python 3"
    },
    "language_info": {
      "name": "python"
    }
  },
  "cells": [
    {
      "cell_type": "markdown",
      "metadata": {
        "id": "view-in-github",
        "colab_type": "text"
      },
      "source": [
        "<a href=\"https://colab.research.google.com/github/Alsoosl/trabalhoELsem4/blob/main/programa001.ipynb\" target=\"_parent\"><img src=\"https://colab.research.google.com/assets/colab-badge.svg\" alt=\"Open In Colab\"/></a>"
      ]
    },
    {
      "cell_type": "markdown",
      "source": [
        "**MEU PRIMEIRO PROGRAMA SEMESTRE 3**"
      ],
      "metadata": {
        "id": "HiH11hWBeW4g"
      }
    },
    {
      "cell_type": "code",
      "execution_count": 5,
      "metadata": {
        "id": "JNAtWYJkdm4O",
        "colab": {
          "base_uri": "https://localhost:8080/"
        },
        "outputId": "9a6dd3bd-e5ef-4ddf-ec95-1d2a1e3f67c8"
      },
      "outputs": [
        {
          "output_type": "stream",
          "name": "stdout",
          "text": [
            "<class 'int'>\n",
            "<class 'int'>\n",
            "5\n"
          ]
        }
      ],
      "source": [
        "#COMENTÁRIO PHYTON\n",
        "A = 2\n",
        "print(type(A))\n",
        "B = 3\n",
        "print(type(B))\n",
        "SOMA = A+B\n",
        "#Soma de strings (entre aspas) concactena os valores, tipo \"2\" + \"3\" = 23\n",
        "print(SOMA)"
      ]
    },
    {
      "cell_type": "code",
      "source": [
        "num = int(input(\"digite um número: \"))\n",
        "print(type(num))\n",
        "quoc = num/2\n",
        "resto = num%2\n",
        "print(\"quociente: \", quoc)\n",
        "print(\"resto\", resto)"
      ],
      "metadata": {
        "colab": {
          "base_uri": "https://localhost:8080/"
        },
        "id": "HWuNwTEThsMI",
        "outputId": "4461601e-c1e4-4231-9fb9-ed9a1c365a55"
      },
      "execution_count": 6,
      "outputs": [
        {
          "output_type": "stream",
          "name": "stdout",
          "text": [
            "digite um número: 9\n",
            "<class 'int'>\n",
            "quociente:  4.5\n",
            "resto 1\n"
          ]
        }
      ]
    },
    {
      "cell_type": "code",
      "source": [],
      "metadata": {
        "id": "xgczFa30gcHw"
      },
      "execution_count": null,
      "outputs": []
    }
  ]
}