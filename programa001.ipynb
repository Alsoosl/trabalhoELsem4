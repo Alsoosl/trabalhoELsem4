{
  "nbformat": 4,
  "nbformat_minor": 0,
  "metadata": {
    "colab": {
      "provenance": [],
      "authorship_tag": "ABX9TyPUvlBQZOE/EEfMsbYGZ3sa",
      "include_colab_link": true
    },
    "kernelspec": {
      "name": "python3",
      "display_name": "Python 3"
    },
    "language_info": {
      "name": "python"
    }
  },
  "cells": [
    {
      "cell_type": "markdown",
      "metadata": {
        "id": "view-in-github",
        "colab_type": "text"
      },
      "source": [
        "<a href=\"https://colab.research.google.com/github/Alsoosl/trabalhoELsem4/blob/main/programa001.ipynb\" target=\"_parent\"><img src=\"https://colab.research.google.com/assets/colab-badge.svg\" alt=\"Open In Colab\"/></a>"
      ]
    },
    {
      "cell_type": "markdown",
      "source": [
        "MEU PRIMEIRO PROGRAMA SEMESTRE 3"
      ],
      "metadata": {
        "id": "HiH11hWBeW4g"
      }
    },
    {
      "cell_type": "code",
      "execution_count": null,
      "metadata": {
        "id": "JNAtWYJkdm4O"
      },
      "outputs": [],
      "source": [
        "#COMENTÁRIO PHYTON"
      ]
    }
  ]
}