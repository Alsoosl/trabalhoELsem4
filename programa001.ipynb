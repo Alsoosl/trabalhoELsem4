{
  "nbformat": 4,
  "nbformat_minor": 0,
  "metadata": {
    "colab": {
      "provenance": [],
      "authorship_tag": "ABX9TyNPjDz9uVzUyieQz0sonocQ",
      "include_colab_link": true
    },
    "kernelspec": {
      "name": "python3",
      "display_name": "Python 3"
    },
    "language_info": {
      "name": "python"
    }
  },
  "cells": [
    {
      "cell_type": "markdown",
      "metadata": {
        "id": "view-in-github",
        "colab_type": "text"
      },
      "source": [
        "<a href=\"https://colab.research.google.com/github/Alsoosl/trabalhoELsem4/blob/main/programa001.ipynb\" target=\"_parent\"><img src=\"https://colab.research.google.com/assets/colab-badge.svg\" alt=\"Open In Colab\"/></a>"
      ]
    },
    {
      "cell_type": "markdown",
      "source": [
        "**MEU PRIMEIRO PROGRAMA SEMESTRE 3**"
      ],
      "metadata": {
        "id": "HiH11hWBeW4g"
      }
    },
    {
      "cell_type": "code",
      "execution_count": null,
      "metadata": {
        "id": "JNAtWYJkdm4O",
        "colab": {
          "base_uri": "https://localhost:8080/"
        },
        "outputId": "9a6dd3bd-e5ef-4ddf-ec95-1d2a1e3f67c8"
      },
      "outputs": [
        {
          "output_type": "stream",
          "name": "stdout",
          "text": [
            "<class 'int'>\n",
            "<class 'int'>\n",
            "5\n"
          ]
        }
      ],
      "source": [
        "#COMENTÁRIO PHYTON\n",
        "A = 2\n",
        "print(type(A))\n",
        "B = 3\n",
        "print(type(B))\n",
        "SOMA = A+B\n",
        "#Soma de strings (entre aspas) concactena os valores, tipo \"2\" + \"3\" = 23\n",
        "print(SOMA)"
      ]
    },
    {
      "cell_type": "code",
      "source": [
        "num = int(input(\"digite um número: \"))\n",
        "print(type(num))\n",
        "quoc = num/2\n",
        "resto = num%2\n",
        "print(\"quociente: \", quoc)\n",
        "print(\"resto\", resto)"
      ],
      "metadata": {
        "colab": {
          "base_uri": "https://localhost:8080/"
        },
        "id": "HWuNwTEThsMI",
        "outputId": "4461601e-c1e4-4231-9fb9-ed9a1c365a55"
      },
      "execution_count": null,
      "outputs": [
        {
          "output_type": "stream",
          "name": "stdout",
          "text": [
            "digite um número: 9\n",
            "<class 'int'>\n",
            "quociente:  4.5\n",
            "resto 1\n"
          ]
        }
      ]
    },
    {
      "cell_type": "markdown",
      "source": [
        "**ATIVIDADE EXEMPLO 2**"
      ],
      "metadata": {
        "id": "M-Lh8XyvjYes"
      }
    },
    {
      "cell_type": "code",
      "source": [
        "base = float(input(\"indique o valor da base do triângulo, em metros: \"))\n",
        "altura = float(input(\"indique o valor da altura do triângulo, em metros: \"))\n",
        "area = float\n",
        "\n",
        "area = (base*altura)/2\n",
        "\n",
        "print(\"A área do tirângulo é de\", area, \"m\")"
      ],
      "metadata": {
        "colab": {
          "base_uri": "https://localhost:8080/"
        },
        "id": "6xm0Eup-jWkE",
        "outputId": "f6ec8b9f-efd0-41bf-853a-40e79ef37a40"
      },
      "execution_count": null,
      "outputs": [
        {
          "output_type": "stream",
          "name": "stdout",
          "text": [
            "indique o valor da base do triângulo, em metros: 8\n",
            "indique o valor da altura do triângulo, em metros: 16\n",
            "A área do tirângulo é de 64.0 m\n"
          ]
        }
      ]
    },
    {
      "cell_type": "markdown",
      "source": [
        "**ATIVIDADE EXEMPLO 3**"
      ],
      "metadata": {
        "id": "gYJRnTzfbmWs"
      }
    },
    {
      "cell_type": "code",
      "source": [
        "pol = float(input(\"Digite o valor em polegadas: \"))\n",
        "mil = pol*25.4\n",
        "print(pol, \"polegadas para milimetro é igual a\", mil)"
      ],
      "metadata": {
        "colab": {
          "base_uri": "https://localhost:8080/"
        },
        "id": "wCP8e7YwbsYz",
        "outputId": "d23478ef-6c68-4452-ca48-4b8a9450ba1e"
      },
      "execution_count": null,
      "outputs": [
        {
          "output_type": "stream",
          "name": "stdout",
          "text": [
            "Digite o valor em polegadas: 2\n",
            "2.0 polegadas para milimetro é igual a 50.8\n"
          ]
        }
      ]
    },
    {
      "cell_type": "markdown",
      "source": [
        "**EXERCÍCIOS 03/09/2024**"
      ],
      "metadata": {
        "id": "ekFFgXTyc6Ds"
      }
    },
    {
      "cell_type": "code",
      "source": [
        "#1\n",
        "\n",
        "r = float(input(\"digite o valor do raio:\"))\n",
        "v1 = 4*3.14159265*r*r*r\n",
        "v2 = v1/3\n",
        "print(\"O volume da esfera é:\", v2)"
      ],
      "metadata": {
        "colab": {
          "base_uri": "https://localhost:8080/"
        },
        "id": "RZh5Q_4wc5St",
        "outputId": "2d21a468-891e-4f09-8a6b-cc7debbc181a"
      },
      "execution_count": null,
      "outputs": [
        {
          "output_type": "stream",
          "name": "stdout",
          "text": [
            "digite o valor do raio:5\n",
            "O volume da esfera é: 523.598775\n"
          ]
        }
      ]
    },
    {
      "cell_type": "markdown",
      "source": [
        "**AULA 10/09/2024**"
      ],
      "metadata": {
        "id": "5nzlDOKweabx"
      }
    },
    {
      "cell_type": "code",
      "source": [
        "num = int(input(\"Digite um número inteiro: \"))\n",
        "\n",
        "if num % 2 == 0:\n",
        "  print(\"O número\", num, \"é par.\")\n",
        "else:\n",
        "  print(\"O número\", num, \"é impar\")"
      ],
      "metadata": {
        "colab": {
          "base_uri": "https://localhost:8080/"
        },
        "id": "pSyBntsQeeSK",
        "outputId": "8fd8b499-a50c-49a7-ec4a-1949cea8640f"
      },
      "execution_count": 9,
      "outputs": [
        {
          "output_type": "stream",
          "name": "stdout",
          "text": [
            "Digite um número inteiro: 2\n",
            "O número 2 é par.\n"
          ]
        }
      ]
    },
    {
      "cell_type": "code",
      "source": [
        "import math\n",
        "\n",
        "num = float(input(\"Digite um número: \"))\n",
        "\n",
        "if num >= 0:\n",
        "     raiz_quadrada = math.sqrt(num)\n",
        "     print(f\"A raiz quadrada de {num} é igual a {raiz_quadrada:.2f}\")#\"f\" é utilizado para formatar a frase, no caso formatamos que entre a frase terá duas variáveis e que a segunda variável terá somente 2 casas decimais ({raiz_quadrada:.2f})\n",
        "else:\n",
        "    print(\"Não existe raiz real para esse número\")"
      ],
      "metadata": {
        "colab": {
          "base_uri": "https://localhost:8080/"
        },
        "id": "fXXj7WBQhWMR",
        "outputId": "69248ce3-5806-4594-ca31-88911487cf98"
      },
      "execution_count": 10,
      "outputs": [
        {
          "output_type": "stream",
          "name": "stdout",
          "text": [
            "Digite um número: 2\n",
            "A raiz quadrada de 2.0 é igual a 1.41\n"
          ]
        }
      ]
    },
    {
      "cell_type": "code",
      "source": [
        "comprimento = float(input(\"Digite o comprimento da camiseta em cm: \"))\n",
        "largura = float(input(\"Digite a largura da camiseta em cm: \"))\n",
        "\n",
        "if comprimento <= 60 and largura <= 45:\n",
        "    tamanho = \"PP\"\n",
        "elif comprimento <= 65 and largura <= 48:\n",
        "    tamanho = \"P\"\n",
        "elif comprimento <= 70 and largura <= 51:\n",
        "    tamanho = \"M\"\n",
        "elif comprimento <= 75 and largura <= 54:\n",
        "    tamanho = \"G\"\n",
        "elif comprimento <= 80 and largura <= 57:\n",
        "    tamanho = \"GG\"\n",
        "else:\n",
        "    tamanho = \"XGG\"\n",
        "\n",
        "print (f\"O tamanho da camiseta é {tamanho}.\")"
      ],
      "metadata": {
        "colab": {
          "base_uri": "https://localhost:8080/"
        },
        "id": "DmnAPELrl9kf",
        "outputId": "d1f78997-6216-4966-8075-7b1c63c70864"
      },
      "execution_count": null,
      "outputs": [
        {
          "output_type": "stream",
          "name": "stdout",
          "text": [
            "Digite o comprimento da camiseta em cm: 74\n",
            "Digite a largura da camiseta em cm: 53.9\n",
            "O tamanho da camiseta é G.\n"
          ]
        }
      ]
    },
    {
      "cell_type": "markdown",
      "source": [
        "**AULA 17/09/2024**"
      ],
      "metadata": {
        "id": "DQGQz2XQgtpZ"
      }
    },
    {
      "cell_type": "code",
      "source": [
        "#01) Elaborar um programa em python que solicite ao usuário um valor inteiro e em seguida informe ao usuário se o valor é múltiplo de 3 ou não.\n",
        "num = int(input(\"Digite um valor inteiro: \"))\n",
        "\n",
        "if num % 3 == 0:\n",
        "  print(\"O valor\", num, \"é múltiplo de 3.\")\n",
        "else:\n",
        "  print(\"O valor\", num, \"não é multiplo de 3.\")"
      ],
      "metadata": {
        "colab": {
          "base_uri": "https://localhost:8080/"
        },
        "id": "dTursuhqgzTw",
        "outputId": "720e4339-43e9-40d5-cf58-855beb6762a5"
      },
      "execution_count": null,
      "outputs": [
        {
          "output_type": "stream",
          "name": "stdout",
          "text": [
            "Digite um valor inteiro: 87\n",
            "O valor 87 é múltiplo de 3.\n"
          ]
        }
      ]
    },
    {
      "cell_type": "code",
      "source": [
        "'''02) Dadas as notas a e b de um aluno, com pesos respectivamente 2 e 3; pede-se elaborar um programa em Python para calcular e exibir a média ponderada do aluno, verificar e informar, junto ao valor da sua média,\n",
        "se foi aprovado ou não (OBS: Considere aprovado se obtiver média igual ou superior a 5).'''\n",
        "#Média ponderada = (x1.p1+x2.p2)/p1+p2\n",
        "\n",
        "a = float(input(\"Digite a primeira nota para cálculo da média: \"))\n",
        "b = float(input(\"Digite a segunda nota para cálculo da média: \"))\n",
        "\n",
        "s = float\n",
        "m = float\n",
        "\n",
        "s = a*2+b*3\n",
        "m = s/5\n",
        "\n",
        "if m >= 5:\n",
        "  print(\"O aluno foi aprovado, com média igual a\", m, \".\")\n",
        "else:\n",
        "  print(\"O aluno foi reprovado, com média igual a\", m, \".\")\n",
        "\n"
      ],
      "metadata": {
        "colab": {
          "base_uri": "https://localhost:8080/"
        },
        "id": "ZqwTuyx-mL4X",
        "outputId": "281bb4ad-facd-4375-8b9e-3eebab781b4a"
      },
      "execution_count": null,
      "outputs": [
        {
          "output_type": "stream",
          "name": "stdout",
          "text": [
            "Digite a primeira nota para cálculo da média: 5\n",
            "Digite a segunda nota para cálculo da média: 2\n",
            "O aluno foi reprovado, com média igual a 3.2 .\n"
          ]
        }
      ]
    },
    {
      "cell_type": "code",
      "source": [
        "from ast import And\n",
        "'''03) Dado o algoritmo a seguir, elabore o código python do programa em questão:\n",
        "Início\n",
        "  Leia os três valores: a, b e c.\n",
        "  Compare os valores:\n",
        "  Se a é menor ou igual a b e a é menor ou igual a c, então\n",
        "    a é o menor valor.\n",
        "  Caso contrário, se b é menor ou igual a a e b é menor ou igual a c, então\n",
        "    b é o menor valor.\n",
        "  Caso contrário,\n",
        "    c é o menor valor.\n",
        "  Exiba o menor valor.\n",
        "Fim'''\n",
        "\n",
        "a = float(input(\"digite o primeiro valor: \"))\n",
        "b = float(input(\"digite o segundo valor: \"))\n",
        "c = float(input(\"digite o terceiro valor: \"))\n",
        "\n",
        "menor = float\n",
        "\n",
        "if a <= b and a < c:\n",
        "  menor = a\n",
        "elif b <= a and b < c:\n",
        "  menor = b\n",
        "else:\n",
        "  menor = c\n",
        "\n",
        "print(\"o menor valor corresponde a\", menor)"
      ],
      "metadata": {
        "colab": {
          "base_uri": "https://localhost:8080/"
        },
        "id": "kDDC-_i6olQQ",
        "outputId": "79824f61-a0cc-4edd-f9c4-04a0d287cc1e"
      },
      "execution_count": null,
      "outputs": [
        {
          "output_type": "stream",
          "name": "stdout",
          "text": [
            "digite o primeiro valor: 2\n",
            "digite o segundo valor: 2\n",
            "digite o terceiro valor: 5\n",
            "o menor valor corresponde a 2.0\n"
          ]
        }
      ]
    },
    {
      "cell_type": "markdown",
      "source": [
        "**CONTROLE DE FLUXO**"
      ],
      "metadata": {
        "id": "RrsBqLkGskb6"
      }
    },
    {
      "cell_type": "code",
      "source": [
        "for variavel in range(10): #comando para um contador, o número entre parênteses indica o número de contagens, note que termina um dígito antes do valor declarado\n",
        "  print(variavel)"
      ],
      "metadata": {
        "colab": {
          "base_uri": "https://localhost:8080/"
        },
        "id": "fsTYcabPsn5r",
        "outputId": "cc40b9b0-9349-4787-9fd2-f7bae88f4269"
      },
      "execution_count": 11,
      "outputs": [
        {
          "output_type": "stream",
          "name": "stdout",
          "text": [
            "0\n",
            "1\n",
            "2\n",
            "3\n",
            "4\n",
            "5\n",
            "6\n",
            "7\n",
            "8\n",
            "9\n"
          ]
        }
      ]
    },
    {
      "cell_type": "code",
      "source": [
        "for variavel in range(1,8,2): #Nesse caso, o contador conta a cada dois números decimais, iniciando em 1 e terminando em 7\n",
        "  print(variavel)"
      ],
      "metadata": {
        "colab": {
          "base_uri": "https://localhost:8080/"
        },
        "id": "Nkx2kdvKtdMb",
        "outputId": "383d61a2-07ed-4e80-9a71-3a86c523aa04"
      },
      "execution_count": 12,
      "outputs": [
        {
          "output_type": "stream",
          "name": "stdout",
          "text": [
            "1\n",
            "3\n",
            "5\n",
            "7\n"
          ]
        }
      ]
    }
  ]
}